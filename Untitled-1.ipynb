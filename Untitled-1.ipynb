{
 "cells": [
  {
   "cell_type": "code",
   "execution_count": 16,
   "metadata": {},
   "outputs": [
    {
     "name": "stdout",
     "output_type": "stream",
     "text": [
      "Collecting fyers-apiv3\n",
      "  Using cached fyers_apiv3-3.1.0-py3-none-any.whl (30 kB)\n",
      "Collecting requests==2.31.0\n",
      "  Using cached requests-2.31.0-py3-none-any.whl (62 kB)\n",
      "Requirement already satisfied: asyncio==3.4.3 in c:\\python311\\lib\\site-packages (from fyers-apiv3) (3.4.3)\n",
      "Collecting aiohttp==3.9.3\n",
      "  Using cached aiohttp-3.9.3-cp311-cp311-win_amd64.whl (365 kB)\n",
      "Collecting aws-lambda-powertools==1.25.5\n",
      "  Using cached aws_lambda_powertools-1.25.5-py3-none-any.whl (171 kB)\n",
      "Requirement already satisfied: websocket-client==1.6.1 in c:\\python311\\lib\\site-packages (from fyers-apiv3) (1.6.1)\n",
      "Collecting aiosignal>=1.1.2\n",
      "  Using cached aiosignal-1.3.1-py3-none-any.whl (7.6 kB)\n",
      "Collecting attrs>=17.3.0\n",
      "  Using cached attrs-23.2.0-py3-none-any.whl (60 kB)\n",
      "Collecting frozenlist>=1.1.1\n",
      "  Using cached frozenlist-1.4.1-cp311-cp311-win_amd64.whl (50 kB)\n",
      "Collecting multidict<7.0,>=4.5\n",
      "  Using cached multidict-6.0.5-cp311-cp311-win_amd64.whl (28 kB)\n",
      "Collecting yarl<2.0,>=1.0\n",
      "  Using cached yarl-1.9.4-cp311-cp311-win_amd64.whl (76 kB)\n",
      "Collecting aws-xray-sdk<3.0.0,>=2.8.0\n",
      "  Using cached aws_xray_sdk-2.13.0-py2.py3-none-any.whl (101 kB)\n",
      "Collecting boto3<2.0,>=1.18\n",
      "  Using cached boto3-1.34.98-py3-none-any.whl (139 kB)\n",
      "Requirement already satisfied: fastjsonschema<3.0.0,>=2.14.5 in c:\\python311\\lib\\site-packages (from aws-lambda-powertools==1.25.5->fyers-apiv3) (2.19.1)\n",
      "Collecting jmespath<0.11.0,>=0.10.0\n",
      "  Using cached jmespath-0.10.0-py2.py3-none-any.whl (24 kB)\n",
      "Collecting charset-normalizer<4,>=2\n",
      "  Using cached charset_normalizer-3.3.2-cp311-cp311-win_amd64.whl (99 kB)\n",
      "Collecting idna<4,>=2.5\n",
      "  Using cached idna-3.7-py3-none-any.whl (66 kB)\n",
      "Collecting urllib3<3,>=1.21.1\n",
      "  Using cached urllib3-2.2.1-py3-none-any.whl (121 kB)\n",
      "Collecting certifi>=2017.4.17\n",
      "  Using cached certifi-2024.2.2-py3-none-any.whl (163 kB)\n",
      "Requirement already satisfied: wrapt in c:\\python311\\lib\\site-packages (from aws-xray-sdk<3.0.0,>=2.8.0->aws-lambda-powertools==1.25.5->fyers-apiv3) (1.16.0)\n",
      "Collecting botocore>=1.11.3\n",
      "  Using cached botocore-1.34.98-py3-none-any.whl (12.2 MB)\n",
      "Collecting s3transfer<0.11.0,>=0.10.0\n",
      "  Using cached s3transfer-0.10.1-py3-none-any.whl (82 kB)\n",
      "Requirement already satisfied: python-dateutil<3.0.0,>=2.1 in c:\\users\\hanss\\appdata\\roaming\\python\\python311\\site-packages (from botocore>=1.11.3->aws-xray-sdk<3.0.0,>=2.8.0->aws-lambda-powertools==1.25.5->fyers-apiv3) (2.9.0.post0)\n",
      "Requirement already satisfied: six>=1.5 in c:\\users\\hanss\\appdata\\roaming\\python\\python311\\site-packages (from python-dateutil<3.0.0,>=2.1->botocore>=1.11.3->aws-xray-sdk<3.0.0,>=2.8.0->aws-lambda-powertools==1.25.5->fyers-apiv3) (1.16.0)\n",
      "Installing collected packages: urllib3, multidict, jmespath, idna, frozenlist, charset-normalizer, certifi, attrs, yarl, requests, botocore, aiosignal, s3transfer, aws-xray-sdk, aiohttp, boto3, aws-lambda-powertools, fyers-apiv3\n",
      "Successfully installed aiohttp-3.9.3 aiosignal-1.3.1 attrs-23.2.0 aws-lambda-powertools-1.25.5 aws-xray-sdk-2.13.0 boto3-1.34.98 botocore-1.34.98 certifi-2024.2.2 charset-normalizer-3.3.2 frozenlist-1.4.1 fyers-apiv3-3.1.0 idna-3.7 jmespath-0.10.0 multidict-6.0.5 requests-2.31.0 s3transfer-0.10.1 urllib3-2.2.1 yarl-1.9.4\n",
      "Note: you may need to restart the kernel to use updated packages.\n"
     ]
    },
    {
     "name": "stderr",
     "output_type": "stream",
     "text": [
      "\n",
      "[notice] A new release of pip available: 22.3.1 -> 24.0\n",
      "[notice] To update, run: python.exe -m pip install --upgrade pip\n"
     ]
    }
   ],
   "source": [
    "pip install --user fyers-apiv3"
   ]
  },
  {
   "cell_type": "code",
   "execution_count": 1,
   "metadata": {},
   "outputs": [
    {
     "data": {
      "text/plain": [
       "'https://fyers.in/products/api/?s=ok&code=200&auth_code=eyJ0eXAiOiJKV1QiLCJhbGciOiJIUzI1NiJ9.eyJpc3MiOiJhcGkubG9naW4uZnllcnMuaW4iLCJpYXQiOjE3MTQ5NzY0MDAsImV4cCI6MTcxNTAwNjQwMCwibmJmIjoxNzE0OTc1ODAwLCJhdWQiOiJbXCJ4OjBcIiwgXCJ4OjFcIiwgXCJ4OjJcIiwgXCJkOjFcIiwgXCJkOjJcIiwgXCJ4OjFcIiwgXCJ4OjBcIl0iLCJzdWIiOiJhdXRoX2NvZGUiLCJkaXNwbGF5X25hbWUiOiJZSDAzNDM4Iiwib21zIjoiSzEiLCJoc21fa2V5IjoiNzM1ZDFhOWNhMGQzMmQ0ZTQ5YzIwYmM1N2Y0MjQzYThkYTMwMjEyZjVhMzc3ZGUyNjg2OWZhZWQiLCJub25jZSI6IiIsImFwcF9pZCI6IjNRWVFYN1NWMlIiLCJ1dWlkIjoiNDk3OTE1ZWU4ZGZmNGY5MWJkMTFhYzhmZmM0NjdmMjEiLCJpcEFkZHIiOiIwLjAuMC4wIiwic2NvcGUiOiIifQ.nPK-JEXeF3wlU2EwcPc8NbYq3DOxdTBPk_dWna5GmT4&state=None'"
      ]
     },
     "execution_count": 1,
     "metadata": {},
     "output_type": "execute_result"
    }
   ],
   "source": [
    "uri='https://fyers.in/products/api/?s=ok&code=200&auth_code=eyJ0eXAiOiJKV1QiLCJhbGciOiJIUzI1NiJ9.eyJpc3MiOiJhcGkubG9naW4uZnllcnMuaW4iLCJpYXQiOjE3MTQ5NzY0MDAsImV4cCI6MTcxNTAwNjQwMCwibmJmIjoxNzE0OTc1ODAwLCJhdWQiOiJbXCJ4OjBcIiwgXCJ4OjFcIiwgXCJ4OjJcIiwgXCJkOjFcIiwgXCJkOjJcIiwgXCJ4OjFcIiwgXCJ4OjBcIl0iLCJzdWIiOiJhdXRoX2NvZGUiLCJkaXNwbGF5X25hbWUiOiJZSDAzNDM4Iiwib21zIjoiSzEiLCJoc21fa2V5IjoiNzM1ZDFhOWNhMGQzMmQ0ZTQ5YzIwYmM1N2Y0MjQzYThkYTMwMjEyZjVhMzc3ZGUyNjg2OWZhZWQiLCJub25jZSI6IiIsImFwcF9pZCI6IjNRWVFYN1NWMlIiLCJ1dWlkIjoiNDk3OTE1ZWU4ZGZmNGY5MWJkMTFhYzhmZmM0NjdmMjEiLCJpcEFkZHIiOiIwLjAuMC4wIiwic2NvcGUiOiIifQ.nPK-JEXeF3wlU2EwcPc8NbYq3DOxdTBPk_dWna5GmT4&state=None'\n",
    "uri"
   ]
  },
  {
   "cell_type": "code",
   "execution_count": 2,
   "metadata": {},
   "outputs": [],
   "source": [
    "s1=uri.split('auth_code=')\n",
    "auth=s1[1].split('&state')[0]"
   ]
  },
  {
   "cell_type": "code",
   "execution_count": 3,
   "metadata": {},
   "outputs": [
    {
     "data": {
      "text/plain": [
       "'eyJ0eXAiOiJKV1QiLCJhbGciOiJIUzI1NiJ9.eyJpc3MiOiJhcGkubG9naW4uZnllcnMuaW4iLCJpYXQiOjE3MTQ5NzY0MDAsImV4cCI6MTcxNTAwNjQwMCwibmJmIjoxNzE0OTc1ODAwLCJhdWQiOiJbXCJ4OjBcIiwgXCJ4OjFcIiwgXCJ4OjJcIiwgXCJkOjFcIiwgXCJkOjJcIiwgXCJ4OjFcIiwgXCJ4OjBcIl0iLCJzdWIiOiJhdXRoX2NvZGUiLCJkaXNwbGF5X25hbWUiOiJZSDAzNDM4Iiwib21zIjoiSzEiLCJoc21fa2V5IjoiNzM1ZDFhOWNhMGQzMmQ0ZTQ5YzIwYmM1N2Y0MjQzYThkYTMwMjEyZjVhMzc3ZGUyNjg2OWZhZWQiLCJub25jZSI6IiIsImFwcF9pZCI6IjNRWVFYN1NWMlIiLCJ1dWlkIjoiNDk3OTE1ZWU4ZGZmNGY5MWJkMTFhYzhmZmM0NjdmMjEiLCJpcEFkZHIiOiIwLjAuMC4wIiwic2NvcGUiOiIifQ.nPK-JEXeF3wlU2EwcPc8NbYq3DOxdTBPk_dWna5GmT4'"
      ]
     },
     "execution_count": 3,
     "metadata": {},
     "output_type": "execute_result"
    }
   ],
   "source": [
    "auth"
   ]
  },
  {
   "cell_type": "code",
   "execution_count": 4,
   "metadata": {},
   "outputs": [
    {
     "name": "stdout",
     "output_type": "stream",
     "text": [
      "{'s': 'ok', 'code': 200, 'message': '', 'access_token': 'eyJ0eXAiOiJKV1QiLCJhbGciOiJIUzI1NiJ9.eyJpc3MiOiJhcGkuZnllcnMuaW4iLCJpYXQiOjE3MTQ5NzY1MTEsImV4cCI6MTcxNTA0MTg1MSwibmJmIjoxNzE0OTc2NTExLCJhdWQiOlsieDowIiwieDoxIiwieDoyIiwiZDoxIiwiZDoyIiwieDoxIiwieDowIl0sInN1YiI6ImFjY2Vzc190b2tlbiIsImF0X2hhc2giOiJnQUFBQUFCbU9IYl84MUlfdm1qRmpoOHhoVkNmWF9yLTBWY1VpWmhMdDJySVdWUlNGWXJISjR3LTFiVFpDNmVzeTFwVElVOTE4c1FtN0JxQU0yZzVpdTJNZVZMOGl6ZlFOV3hBSE9jXzB4MXpZR3J3SFQwQzJvND0iLCJkaXNwbGF5X25hbWUiOiJIQU5TIEJIVVdBTiBTSU5HSCIsIm9tcyI6IksxIiwiaHNtX2tleSI6IjczNWQxYTljYTBkMzJkNGU0OWMyMGJjNTdmNDI0M2E4ZGEzMDIxMmY1YTM3N2RlMjY4NjlmYWVkIiwiZnlfaWQiOiJZSDAzNDM4IiwiYXBwVHlwZSI6MTAwLCJwb2FfZmxhZyI6Ik4ifQ.McNudLPSfMj7sLPRSIiW-OwYidMSmshcm3zXGZzkFrM', 'refresh_token': 'eyJ0eXAiOiJKV1QiLCJhbGciOiJIUzI1NiJ9.eyJpc3MiOiJhcGkuZnllcnMuaW4iLCJpYXQiOjE3MTQ5NzY1MTEsImV4cCI6MTcxNjI1MTQ1MSwibmJmIjoxNzE0OTc2NTExLCJhdWQiOlsieDowIiwieDoxIiwieDoyIiwiZDoxIiwiZDoyIiwieDoxIiwieDowIl0sInN1YiI6InJlZnJlc2hfdG9rZW4iLCJhdF9oYXNoIjoiZ0FBQUFBQm1PSGJfODFJX3ZtakZqaDh4aFZDZlhfci0wVmNVaVpoTHQycklXVlJTRllySEo0dy0xYlRaQzZlc3kxcFRJVTkxOHNRbTdCcUFNMmc1aXUyTWVWTDhpemZRTld4QUhPY18weDF6WUdyd0hUMEMybzQ9IiwiZGlzcGxheV9uYW1lIjoiSEFOUyBCSFVXQU4gU0lOR0giLCJvbXMiOiJLMSIsImhzbV9rZXkiOiI3MzVkMWE5Y2EwZDMyZDRlNDljMjBiYzU3ZjQyNDNhOGRhMzAyMTJmNWEzNzdkZTI2ODY5ZmFlZCIsImZ5X2lkIjoiWUgwMzQzOCIsImFwcFR5cGUiOjEwMCwicG9hX2ZsYWciOiJOIn0.yFbzBmz7WORRoA_dR2L_53Jfq4jkMLfZ1PtuPxMhRtQ'}\n"
     ]
    }
   ],
   "source": [
    "\n",
    "from fyers_apiv3 import fyersModel\n",
    "\n",
    "client_id = '3QYQX7SV2R-100'\n",
    "secret_key = '2MSTSKFUZB'\n",
    "redirect_uri ='https://fyers.in/products/api/'\n",
    "\n",
    "response_type = \"code\" \n",
    "grant_type = \"authorization_code\"  \n",
    "\n",
    "# The authorization code received from Fyers after the user grants access\n",
    "auth_code = auth\n",
    "\n",
    "# Create a session object to handle the Fyers API authentication and token generation\n",
    "session = fyersModel.SessionModel(\n",
    "    client_id=client_id,\n",
    "    secret_key=secret_key, \n",
    "    redirect_uri=redirect_uri, \n",
    "    response_type=response_type, \n",
    "    grant_type=grant_type\n",
    ")\n",
    "\n",
    "# Set the authorization code in the session object\n",
    "session.set_token(auth_code)\n",
    "\n",
    "# Generate the access token using the authorization code\n",
    "response = session.generate_token()\n",
    "\n",
    "# Print the response, which should contain the access token and other details\n",
    "print(response)"
   ]
  },
  {
   "cell_type": "code",
   "execution_count": 5,
   "metadata": {},
   "outputs": [],
   "source": [
    "access_token = response['access_token']"
   ]
  },
  {
   "cell_type": "code",
   "execution_count": 6,
   "metadata": {},
   "outputs": [
    {
     "data": {
      "text/plain": [
       "'eyJ0eXAiOiJKV1QiLCJhbGciOiJIUzI1NiJ9.eyJpc3MiOiJhcGkuZnllcnMuaW4iLCJpYXQiOjE3MTQ5NzY1MTEsImV4cCI6MTcxNTA0MTg1MSwibmJmIjoxNzE0OTc2NTExLCJhdWQiOlsieDowIiwieDoxIiwieDoyIiwiZDoxIiwiZDoyIiwieDoxIiwieDowIl0sInN1YiI6ImFjY2Vzc190b2tlbiIsImF0X2hhc2giOiJnQUFBQUFCbU9IYl84MUlfdm1qRmpoOHhoVkNmWF9yLTBWY1VpWmhMdDJySVdWUlNGWXJISjR3LTFiVFpDNmVzeTFwVElVOTE4c1FtN0JxQU0yZzVpdTJNZVZMOGl6ZlFOV3hBSE9jXzB4MXpZR3J3SFQwQzJvND0iLCJkaXNwbGF5X25hbWUiOiJIQU5TIEJIVVdBTiBTSU5HSCIsIm9tcyI6IksxIiwiaHNtX2tleSI6IjczNWQxYTljYTBkMzJkNGU0OWMyMGJjNTdmNDI0M2E4ZGEzMDIxMmY1YTM3N2RlMjY4NjlmYWVkIiwiZnlfaWQiOiJZSDAzNDM4IiwiYXBwVHlwZSI6MTAwLCJwb2FfZmxhZyI6Ik4ifQ.McNudLPSfMj7sLPRSIiW-OwYidMSmshcm3zXGZzkFrM'"
      ]
     },
     "execution_count": 6,
     "metadata": {},
     "output_type": "execute_result"
    }
   ],
   "source": [
    "access_token"
   ]
  },
  {
   "cell_type": "code",
   "execution_count": 32,
   "metadata": {},
   "outputs": [
    {
     "name": "stdout",
     "output_type": "stream",
     "text": [
      "{'code': 200, 'message': '', 's': 'ok', 'overall': {'count_total': 0, 'pnl_perc': 0, 'total_current_value': 0, 'total_investment': 0, 'total_pl': 0}, 'holdings': []}\n"
     ]
    }
   ],
   "source": [
    "# Initialize the FyersModel instance with your client_id, access_token, and enable async mode\n",
    "fyers = fyersModel.FyersModel(client_id=client_id, token=access_token,is_async=False, log_path=\"\")\n",
    "\n",
    "response = fyers.holdings()\n",
    "print(response)"
   ]
  },
  {
   "cell_type": "code",
   "execution_count": null,
   "metadata": {},
   "outputs": [],
   "source": []
  }
 ],
 "metadata": {
  "kernelspec": {
   "display_name": "Python 3",
   "language": "python",
   "name": "python3"
  },
  "language_info": {
   "codemirror_mode": {
    "name": "ipython",
    "version": 3
   },
   "file_extension": ".py",
   "mimetype": "text/x-python",
   "name": "python",
   "nbconvert_exporter": "python",
   "pygments_lexer": "ipython3",
   "version": "3.11.3"
  }
 },
 "nbformat": 4,
 "nbformat_minor": 2
}
